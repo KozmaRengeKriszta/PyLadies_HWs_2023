{
 "cells": [
  {
   "cell_type": "markdown",
   "id": "ce6be83e",
   "metadata": {},
   "source": [
    "# Pyladies meetup <img src=\"https://raw.githubusercontent.com/pyladies/pyladies-assets/master/geek/png/pylady_geek_partial.png\" style=\"display:inline\" width=\"150\"  align=\"right\">\n",
    "# 4. házi feladathoz tartozó szorgalmi feladat"
   ]
  },
  {
   "cell_type": "markdown",
   "id": "eaf21b3f",
   "metadata": {},
   "source": [
    "A hivatalnok látja, hogy Geeky épp a kimutatások részleteit böngészi, így hozzáteszi:\n",
    "- ezek a legsürgetőbb információk amikre szükségünk van, a többivel meg tudjuk várni az elemzőnket. Nagyon könnyű dolga lesz azok után, hogy ilyen szépen előkészítette az adatokat. De ha van kedve, akkor egy jegeskávé kuponért (plusz pontért) cserébe lepjen meg minket, hátha eszébe jut valami olyan nézet, ami nekünk nem, és ezzel feldobhatjuk a minisztériumnak adott jelentésünket.\n"
   ]
  },
  {
   "cell_type": "code",
   "execution_count": null,
   "id": "1f4d1134",
   "metadata": {
    "scrolled": false
   },
   "outputs": [],
   "source": [
    "import pandas as pd\n",
    "df = pd.read_csv('bergengoc_nepszamlalas_tisztitott.csv', sep = ',')\n",
    "df"
   ]
  },
  {
   "cell_type": "markdown",
   "id": "5819d2ae",
   "metadata": {},
   "source": [
    "## Keresztnevek elemzése\n",
    "- Melyik a leggyakoribb női keresztnév?\n",
    "- Melyik a leggyakoribb férfi keresztnév?\n",
    "- Melyik népcsoportban mi a leggyakoribb név?\n",
    "- Melyik megyében mi a leggyakoribb név?\n",
    "\n",
    "     ### Eredmény:\n",
    "     Annyi érdekességre fény derült, hogy a női/férfi névadási szokásaik merőben eltérőek a nálunk megszokottól :)"
   ]
  },
  {
   "cell_type": "code",
   "execution_count": null,
   "id": "4a5ae3d5",
   "metadata": {},
   "outputs": [],
   "source": [
    "# Leggyakoribb keresztnevek nemenként\n",
    "nevek_nemenkent = df.groupby('nem')['keresztnev'].value_counts()\n",
    "noi_leggyakoribb = nevek_nemenkent['no'].idxmax()\n",
    "ferfi_leggyakoribb = nevek_nemenkent['ferfi'].idxmax()\n",
    "\n",
    "# Leggyakoribb keresztnevek nepcsoportonként\n",
    "nevek_nepcsoportonkent = df.groupby('nepcsoport')['keresztnev'].value_counts()\n",
    "\n",
    "# Leggyakoribb keresztnevek megyénként\n",
    "nevek_megyenkent = df.groupby('lakhely_megye')['keresztnev'].value_counts()\n",
    "\n",
    "# Az eredmények kiírása\n",
    "print(f\"Leggyakoribb női név: {noi_leggyakoribb}\")\n",
    "print(f\"Leggyakoribb férfi név: {ferfi_leggyakoribb}\")\n",
    "print('----------------------------------------------')\n",
    "\n",
    "for nepcsoport in df['nepcsoport'].unique():\n",
    "    print(f\"{nepcsoport} népcsoportban a leggyakoribb név: {nevek_nepcsoportonkent[nepcsoport].idxmax()}\")\n",
    "\n",
    "print('----------------------------------------------')\n",
    "\n",
    "for megye in df['lakhely_megye'].unique():\n",
    "    print(f\"{megye} megyében a leggyakoribb név: {nevek_megyenkent[megye].idxmax()}\")\n"
   ]
  },
  {
   "cell_type": "code",
   "execution_count": null,
   "id": "93cc3126",
   "metadata": {},
   "outputs": [],
   "source": [
    "# Érdekes, hogy \"Alexander\" lett a leggyakoribb női név. Kicsit tanulmányozom még a női/férfi neveket...\n",
    "\n",
    "noi_nevek_lista = df[df.nem == 'no'].sort_values(by='keresztnev')['keresztnev'].unique().tolist()\n",
    "print(', '.join(noi_nevek_lista))\n",
    "\n",
    "print('-----------------------------------------------------------')\n",
    "\n",
    "ferfi_nevek_lista = df[df.nem == 'ferfi'].sort_values(by='keresztnev')['keresztnev'].unique().tolist()\n",
    "print(', '.join(ferfi_nevek_lista))"
   ]
  },
  {
   "cell_type": "code",
   "execution_count": null,
   "id": "a68a73c0",
   "metadata": {},
   "outputs": [],
   "source": []
  },
  {
   "cell_type": "markdown",
   "id": "fafc34d3",
   "metadata": {},
   "source": [
    "### Korcsoportok elemzése\n",
    "- Soroljuk be a lakosokat korcsoportokba, hogy lássuk hogy alakul a fiatalok / idősek aránya\n",
    "- Vizsgáljuk meg a korcsoportok eloszlását az egyes népcsoportokban\n",
    "- Vizsgáljuk meg a korcsoportok eloszlását az egyes megyékben\n",
    "- Vizsgáljuk meg a nemek eloszlását az egyes korcsoportokon belül\n",
    "- Határozzuk meg az átlagos BMI és magasság értéket korcsoportonként\n",
    "\n",
    "    ### Eredmény\n",
    "    Annyi érdekességre derült fény, hogy a bergengóc babák már eleve felnőtt méretekkel (magasság és BMI) születnek :)"
   ]
  },
  {
   "cell_type": "code",
   "execution_count": null,
   "id": "2a9506c1",
   "metadata": {},
   "outputs": [],
   "source": [
    "# Korcsoportok definiálása\n",
    "bins = [0, 20, 40, 60, 80, 110, 150]\n",
    "labels = ['0-20', '20-40', '40-60', '60-80', '80-110', '110+']\n",
    "\n",
    "df['korcsoport'] = pd.cut(df['kor'], bins=bins, labels=labels, right=False)\n",
    "\n",
    "# Korcsoportok eloszlásának vizsgálata\n",
    "df['korcsoport'].value_counts().sort_index()\n"
   ]
  },
  {
   "cell_type": "code",
   "execution_count": null,
   "id": "d6f69b89",
   "metadata": {},
   "outputs": [],
   "source": [
    "# A korcsoportok eloszlása az egyes népcsoportokban\n",
    "korcsoport_eloszlas_nepcsoportonkent = df.groupby('nepcsoport')['korcsoport'].value_counts().unstack().fillna(0)\n",
    "\n",
    "# A korcsoportok eloszlása az egyes megyékben\n",
    "korcsoport_eloszlas_megyenkent = df.groupby('lakhely_megye')['korcsoport'].value_counts().unstack().fillna(0)\n",
    "\n",
    "# A nemek eloszlása az egyes korcsoportokban\n",
    "nemek_eloszlas_korcsoportonkent = df.groupby('korcsoport')['nem'].value_counts().unstack().fillna(0)\n",
    "\n",
    "print(korcsoport_eloszlas_nepcsoportonkent)\n",
    "print('-------------------------------------------------------------')\n",
    "print(korcsoport_eloszlas_megyenkent)\n",
    "print('-------------------------------------------------------------')\n",
    "print(nemek_eloszlas_korcsoportonkent)\n"
   ]
  },
  {
   "cell_type": "code",
   "execution_count": null,
   "id": "c28bd8ba",
   "metadata": {},
   "outputs": [],
   "source": [
    "average_values = df.groupby('korcsoport')[['BMI', 'magassag']].mean()\n",
    "std_values = df.groupby('korcsoport')[['BMI', 'magassag']].std()\n",
    "\n",
    "result = pd.concat([average_values, std_values], axis=1, keys=['Átlag', 'Szórás'])\n",
    "\n",
    "result.columns = ['_'.join(col).strip() for col in result.columns.values]\n",
    "result = result.reindex(columns=['Átlag_magassag', 'Szórás_magassag', 'Átlag_BMI', 'Szórás_BMI'])\n",
    "result"
   ]
  },
  {
   "cell_type": "code",
   "execution_count": null,
   "id": "22d8efa4",
   "metadata": {},
   "outputs": [],
   "source": [
    "# Érdekes, hogy a 0-20 korcsoportban is ugyanúgy alakul az átlag magasság (és szórás), \n",
    "# mint a többiben. Lekérem ehhez a korcsoporthoz tartozó 'kor' és 'magasság' értékeket, \n",
    "# hogy egy kicsit több infok legyen erről...\n",
    "\n",
    "df[df.korcsoport == '0-20'][['kor', 'magassag', 'BMI']].sort_values(by='kor')\n",
    "\n",
    "# Hát, nem lennék azon bergengóc anyák helyében, akiknek 211 cm-es, közel 170 kg-os babát kell szülniük :))\n",
    "# Bár, ki tudja, náluk hogy megy ez a szülés/születés kérdés... \n",
    "# Remélem, ők csak teremtődnek (mondjuk egy random generátor segítségével:)) ekkora \"babának\"..."
   ]
  },
  {
   "cell_type": "code",
   "execution_count": null,
   "id": "08370394",
   "metadata": {
    "scrolled": true
   },
   "outputs": [],
   "source": [
    "# A 211 cm-es, 38.07-es BMI-s bergengóc baba súlyáak meghatározása - just out of curiosity\n",
    "\n",
    "def suly_kalkulator(magassag, BMI):\n",
    "    # Ellenőrzi, hogy a bemeneti értékek számok-e\n",
    "    if ((type(magassag) not in [int, float]) or (type(BMI) not in [int, float])):\n",
    "        raise ValueError(\"A magasság és a BMI értékeknek számoknak kell lenniük!\")\n",
    "\n",
    "    # Ellenőrzi a magasság értékét\n",
    "    if magassag <= 70 or magassag > 250:\n",
    "        raise ValueError(\"A magasság értékének 70 cm és 250 cm között kell lennie!\")\n",
    "\n",
    "    # Ellenőrzi a BMI értékét\n",
    "    if BMI <= 10 or BMI > 50:\n",
    "        raise ValueError(\"A BMI értékének 10 és 50 között kell lennie!\")\n",
    "        \n",
    "    # Ha minden rendben érték rendben van, akkor elvégzi a számítást\n",
    "    suly = BMI * (magassag / 100)**2\n",
    "    suly_kerekitve = round(suly, 2)\n",
    "    \n",
    "    #Végül kiírja az eredményt\n",
    "    print(f\"A megadott adatok alapján a személy súlya {suly_kerekitve} kg\")\n",
    "\n",
    "suly_kalkulator(211, 38.07)"
   ]
  },
  {
   "cell_type": "code",
   "execution_count": null,
   "id": "ec77129b",
   "metadata": {},
   "outputs": [],
   "source": []
  },
  {
   "cell_type": "markdown",
   "id": "b5719c11",
   "metadata": {},
   "source": [
    "### Korrelációs elemzések\n",
    "- Vizsgáljuk meg, van-e valamilyen összefüggés a numerikus változók között?\n",
    "- Vizsgáljuk meg, van-e valamilyen összefüggés a kategórikus változók között?\n",
    "\n",
    "    ### Eredmény\n",
    "    Sem a numerikus, sem a kategórikus változók között nem fedezhető fel szignifikáns kapcsolat"
   ]
  },
  {
   "cell_type": "code",
   "execution_count": null,
   "id": "ce6fbc99",
   "metadata": {},
   "outputs": [],
   "source": [
    "# Numerikus változók közti korreláció\n",
    "df[['kor', 'magassag', 'BMI']].corr()\n"
   ]
  },
  {
   "cell_type": "code",
   "execution_count": null,
   "id": "c29596f6",
   "metadata": {},
   "outputs": [],
   "source": [
    "# Kategórikus változók közti korreláció\n",
    "import researchpy as rp\n",
    "\n",
    "kategorikus_valtozok = ['korcsoport', 'nem', 'nepcsoport', 'lakhely_megye']\n",
    "\n",
    "# Az összes lehetséges változópáros korrelációjának kiszámítása\n",
    "for i in range(len(kategorikus_valtozok)):\n",
    "    for j in range(i+1, len(kategorikus_valtozok)):\n",
    "        table, results = rp.crosstab(df[kategorikus_valtozok[i]], df[kategorikus_valtozok[j]], test= 'chi-square')\n",
    "        \n",
    "        chi_square = results.iloc[0, 1]\n",
    "        p_value = results.iloc[1, 1]\n",
    "        cramers_v = results.iloc[2, 1]\n",
    "        \n",
    "        print(f\"Párosítás: {kategorikus_valtozok[i]} és {kategorikus_valtozok[j]}\")\n",
    "        print(f\"Pearson Chi-square érték: {chi_square:.4f}\")\n",
    "        print(f\"p-value: {p_value:.4f}\")\n",
    "        print(f\"Cramér V: {cramers_v:.4f}\")\n",
    "        print(\"-\" * 50)  "
   ]
  },
  {
   "cell_type": "code",
   "execution_count": null,
   "id": "00fbb780",
   "metadata": {},
   "outputs": [],
   "source": []
  },
  {
   "cell_type": "markdown",
   "id": "c473fc65",
   "metadata": {},
   "source": [
    "### Pivot-table kimutatások\n",
    "- Készítsünk Pivot-table formátumú kimutatásokat a numerikus változók átlagos értékéről a kategórikus változók összes lehetséges kombinációjára!\n",
    "\n",
    "    ### Eredmény\n",
    "    Semmi kiugró adatot nem látok, ami további elemzésre adna okot"
   ]
  },
  {
   "cell_type": "code",
   "execution_count": null,
   "id": "c672bd0b",
   "metadata": {},
   "outputs": [],
   "source": [
    "kategorikus_valtozok = ['nem', 'nepcsoport', 'lakhely_megye']\n",
    "numerikus_valtozok = ['kor', 'magassag', 'BMI']\n",
    "\n",
    "# Az összes lehetséges változópárosra készítünk pivot-táblát:\n",
    "for i in range(len(kategorikus_valtozok)):\n",
    "    for j in range(i+1, len(kategorikus_valtozok)):\n",
    "        print(f\"Pivot-table {kategorikus_valtozok[i].upper()} és {kategorikus_valtozok[j].upper()} alapján:\")\n",
    "        for num_var in numerikus_valtozok:\n",
    "            pivot = df.pivot_table(values=num_var, \n",
    "                                   index=kategorikus_valtozok[i], \n",
    "                                   columns=kategorikus_valtozok[j], \n",
    "                                   aggfunc='mean')\n",
    "            print(f\"ÁTLAG {num_var.upper()}:\\n\", pivot, \"\\n\")\n",
    "        print(\"-\" * 50)"
   ]
  },
  {
   "cell_type": "code",
   "execution_count": null,
   "id": "daa6dba1",
   "metadata": {},
   "outputs": [],
   "source": []
  }
 ],
 "metadata": {
  "kernelspec": {
   "display_name": "Python 3 (ipykernel)",
   "language": "python",
   "name": "python3"
  },
  "language_info": {
   "codemirror_mode": {
    "name": "ipython",
    "version": 3
   },
   "file_extension": ".py",
   "mimetype": "text/x-python",
   "name": "python",
   "nbconvert_exporter": "python",
   "pygments_lexer": "ipython3",
   "version": "3.9.16"
  }
 },
 "nbformat": 4,
 "nbformat_minor": 5
}
