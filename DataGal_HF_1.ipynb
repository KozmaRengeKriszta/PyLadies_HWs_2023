{
 "cells": [
  {
   "cell_type": "markdown",
   "metadata": {},
   "source": [
    "# Pyladies meetup <img src=\"https://raw.githubusercontent.com/pyladies/pyladies-assets/master/geek/png/pylady_geek_partial.png\" style=\"display:inline\" width=\"150\"  align=\"right\">\n",
    "# 1. házi feladat megoldása "
   ]
  },
  {
   "cell_type": "markdown",
   "metadata": {},
   "source": [
    "## Geeky Girl Bergengóciában\n",
    "\n",
    "Geeky szabadságra ment. Kivételes, kissé bohókás helyre vágyott, barátai tanácsára ezért Bergengóciába vett repülőjegyet.    \n",
    "A főváros, Koala Lumpia főterén egy hatalmas emlékművet pillantott meg: három koronás alak ünnepélyesen kezet fog. A talapzatra vésett feliratból kiderült, hogy a szoborcsoport Bergengócia alapító atyjait:    \n",
    "\n",
    "__Gündzselizeben, Krakatakiwimanga és Alfadelagunix__\n",
    "\n",
    "királyokat ábrázolja.\n",
    "\n",
    "Geeky megcsinálta a kötelező szelfiket, majd leintett egy taxit, hogy a szállodájába menjen."
   ]
  },
  {
   "cell_type": "markdown",
   "metadata": {},
   "source": [
    "A recepción bejelentkezett a 42-es szobába, és a kulcsát kérte. A recepciós megrázta a fejét:   \n",
    "\"Kulcsunk nincs, de az ajtót nyitó kód nem más, mint alapító atyáink nevei hosszának szorzata plusz a szobaszám.\"\n",
    "Geeky fellélegzett - milyen hasznos, hogy olyan gyakran szelfizik! "
   ]
  },
  {
   "cell_type": "markdown",
   "metadata": {},
   "source": [
    "\n",
    "### <font color=\"lime\">1. feladat - segíts Geekynek, és számítsd ki az ajtónyitó kódot!</font>\n"
   ]
  },
  {
   "cell_type": "code",
   "execution_count": 1,
   "metadata": {},
   "outputs": [
    {
     "data": {
      "text/plain": [
       "2954"
      ]
     },
     "execution_count": 1,
     "metadata": {},
     "output_type": "execute_result"
    }
   ],
   "source": [
    "ajtonyito_kod = len('Gündzselizeben') * len('Krakatakiwimanga') * len('Alfadelagunix') + 42\n",
    "ajtonyito_kod"
   ]
  },
  {
   "cell_type": "markdown",
   "metadata": {},
   "source": [
    "### <font color=\"red\">>>> 1. feladat megoldás - A 42-es szoba ajtónyitó kódja: 2954</font>"
   ]
  },
  {
   "cell_type": "markdown",
   "metadata": {},
   "source": [
    "Geeky belépett. Az asztalon színes táblácska állt, ezzel a szöveggel:   \n",
    "\n",
    "\"HÁZIREND \n",
    "\n",
    "Minden vendég 13 papucsot és 11 törülközöt használhat.    \n",
    "A medence 6.12-től 21.41-ig tart nyitva.    \n",
    "Az étteremben minden fogás 1.37 bergengóc garasba (BEG) kerül.    \n",
    "Az edzőközpontot azok használhatják, akik 5.02 lábnál magasabbak.    \n",
    "Tűzijáték minden hónap 3. napján a 4. emeleten.   \n",
    "\n",
    "_*Minden szobához jár egy koktélkupon, amit a bárban lehet beváltani._   \n",
    "_*A kupon értéke (BEG pénznemben) a házirendben szereplő számok szorzatának 2. 4. és 5. számjegyéből állítható össze. (A `.` tizedespontot jelöl)_"
   ]
  },
  {
   "cell_type": "markdown",
   "metadata": {},
   "source": [
    "\n",
    "### <font color=\"lime\">2. feladat - segíts Geekynek, és számítsd ki, hogy mennyi a koktélkupon legkedvezőbb értéke!</font>"
   ]
  },
  {
   "cell_type": "code",
   "execution_count": 2,
   "metadata": {},
   "outputs": [
    {
     "name": "stdout",
     "output_type": "stream",
     "text": [
      "653\n"
     ]
    }
   ],
   "source": [
    "szorzat = 13 * 11 * 6.12 * 21.41 * 1.37 * 5.02 * 3 * 4\n",
    "indexek = [2, 4, 5]\n",
    "\n",
    "# Szám stringé alakítása\n",
    "szorzat_str = str(szorzat)\n",
    "\n",
    "# Számjegyek kiválasztása\n",
    "kivalasztott_szamjegyek = [szorzat_str[i-1] for i in indexek]\n",
    "\n",
    "# Számjegyek rendezése csökkenő sorrendbe\n",
    "kivalasztott_szamjegyek.sort(reverse=True)\n",
    "\n",
    "# Számjegyekből szám létrehozása\n",
    "kupon_max_erteke = int(''.join(kivalasztott_szamjegyek))\n",
    "\n",
    "print(kupon_max_erteke)"
   ]
  },
  {
   "cell_type": "markdown",
   "metadata": {},
   "source": [
    "### <font color=\"red\">>>> 2. feladat megoldás - A koktélkupon legkedvezőbb értéke: 653 BEG</font>"
   ]
  },
  {
   "cell_type": "markdown",
   "metadata": {},
   "source": [
    "Geeky a bárban a koktélját szürcsölte. Egy szemüveges bergengóc telepedett mellé.    \n",
    "\"A Koalai Harsona főszerkesztője vagyok. Mivel mi különösen becsüljük az éleseszű turistákat, szeretnék felajánlani egy lehetőséget.   \n",
    "Ha itt helyben megoldja a következő feladványt, a Harsona befizeti egy kétnapos szafarira, ahol bergengóc tevéken ügethet, sünöket simogathat, oroszlánokkal kergetőzhet és fókákon lovagolhat.\"\n",
    "\n",
    "Geeky szeme felcsillant. Nagyon szerette az állatokat, és a rejtvényekért is rajongott.   \n",
    "Előhúzta Python-i-Max III. hordozható számítógépét, és feszülten figyelt.   \n",
    "\n",
    "A főszerkesztő megköszörülte a torkát, előhúzott egy ív papírt a zsebéből, és hangosan olvasni kezdett:   \n",
    "\"Réges-régen három birodalom: a Ber, a Gen és a Góc királyság harcolt Bergengócia földjéért.      \n",
    "A több generációnyi viszályt a három nagy király megelégelte, és békét kötött.    \n",
    "Gündzselizeben, Krakatakiwimanga és Alfadelagunix megalapították Bergengóciát, ahol békében él egymás mellett ber, gen és góc.   \n",
    "Ápolják különös hagyományaikat, melyek egyike az, hogy szigorú szabályoknak megfelelő neveket adnak az utódoknak.  \n",
    "\n",
    "A berek neve 14 betűs. Ha előfordul benne a \"dzse\", akkor a név \"en\"-re vagy \"em\"-re végződik, egyébként \"ka\"-ra. A szóban az \"i\" legfeljebb egyszer fordulhat elő.   \n",
    "A genek neve vagy 17 betűs, és \"ga\", \"ge\" vagy \"gu\" végződésű, vagy pedig 16 betűs, ekkor az utolsó két szótag mindenképpen \"manga\".     \n",
    "A gócok neve mindig páratlan számú betűből áll. Ha 10 betűnél hosszabb, akkor az utolsó betű \"x\", egyébként \"z\".   \n",
    "Bergengóciába sokan jöttek bevándorlók, de az ő neveik nem követik a fenti névadás hagyományait.\"\n",
    "\n",
    "A főszerkesztő Geekyre nézett, szemében huncut fény csillant.   \n",
    "\"Nos, kisasszony, a kérdés, hogy szerkesztőségünk 15 tagja közül ki bergengócok, és ki bevándorlók leszármazottja?\"   "
   ]
  },
  {
   "cell_type": "markdown",
   "metadata": {},
   "source": [
    "Átnyújtott egy névlistát a lánynak, Geeky pedig gyorsan gépelni kezdett, s már futott is a Python program, amely megállapította, hogy a 15 névből melyek voltak hagyományos bergengócok. A főszerkesztő az eredmények láttán elégedetten bólintott, és elismerő szavakat dünnyögve egy elegáns, aranyszínű szafarijegyet adott a lánynak."
   ]
  },
  {
   "cell_type": "markdown",
   "metadata": {},
   "source": [
    "Szerkesztőségünk tagjai: <font color=\"magenta\">Gedzsebrinxen, Kündzseperecem, Albinautixyx, Mereswedorian, Kilimoparatuka, Besteriendzsiken, Myrsortarian, Myrsatexeride, Kiribeterko, Fendzsupirjiken, Nowaroquartix, Miopelpetide, Werselenghider, Aldiretichewen, Broxadyrpex.</font>"
   ]
  },
  {
   "cell_type": "markdown",
   "metadata": {},
   "source": [
    "### <font color=\"lime\">3. feladat - kiket jelölt meg Geeky tősgyökeres bergengócként?</font>"
   ]
  },
  {
   "cell_type": "code",
   "execution_count": 3,
   "metadata": {},
   "outputs": [
    {
     "name": "stdout",
     "output_type": "stream",
     "text": [
      "['Kündzseperecem']\n",
      "[]\n",
      "['Nowaroquartix', 'Broxadyrpex']\n"
     ]
    }
   ],
   "source": [
    "szerkesztőség = ['Gedzsebrinxen', 'Kündzseperecem', 'Albinautixyx',\n",
    "                 'Mereswedorian', 'Kilimoparatuka', 'Besteriendzsiken',\n",
    "                 'Myrsortarian', 'Myrsatexeride', 'Kiribeterko',\n",
    "                 'Fendzsupirjiken', 'Nowaroquartix', 'Miopelpetide',\n",
    "                 'Werselenghider', 'Aldiretichewen', 'Broxadyrpex']\n",
    "\n",
    "BERGEK = []\n",
    "GENEK = []\n",
    "GÓCOK = []\n",
    "\n",
    "for név in szerkesztőség:\n",
    "    \n",
    "    #BERGEK kiválasztása a szerkesztőség tagjai közül\n",
    "    if len(név) == 14 and név.count(\"i\") <= 1:\n",
    "        if \"dzse\" in név:\n",
    "            if név.endswith(\"en\") or név.endswith(\"em\"):\n",
    "                BERGEK.append(név)\n",
    "        elif név.endswith(\"ka\"):\n",
    "            BERGEK.append(név)\n",
    "    \n",
    "    #GENEK kiválasztása a szerkesztőség tagjai közül\n",
    "    if len(név) == 17:\n",
    "        if név.endswith(\"ga\") or név.endswith(\"ge\") or név.endswith(\"gu\"):\n",
    "            GENEK.append(név)\n",
    "    elif len(név) == 16:\n",
    "        if név.endswith(\"manga\"):\n",
    "            GENEK.append(név)\n",
    "            \n",
    "    #GÓCOK kiválasztása a szerkesztőség tagjai közül\n",
    "    if len(név) % 2 != 0:\n",
    "        if len(név) > 10 and név.endswith(\"x\"):\n",
    "            GÓCOK.append(név)\n",
    "        elif len(név) <= 10 and név.endswith(\"z\"):\n",
    "            GÓCOK.append(név)\n",
    "    \n",
    "print(BERGEK)\n",
    "print(GENEK)\n",
    "print(GÓCOK)"
   ]
  },
  {
   "cell_type": "markdown",
   "metadata": {},
   "source": [
    "### <font color=\"red\">>>> 3. feladat megoldás - a törzsgyökeres bergengócok a szerkesztőségben: \n",
    "### <font color=\"red\">Kündzseperecem (BER származású), Nowaroquartix és Broxadyrpex (GÓC származásúak) </font>"
   ]
  },
  {
   "cell_type": "code",
   "execution_count": null,
   "metadata": {},
   "outputs": [],
   "source": []
  }
 ],
 "metadata": {
  "kernelspec": {
   "display_name": "Python 3",
   "language": "python",
   "name": "python3"
  },
  "language_info": {
   "codemirror_mode": {
    "name": "ipython",
    "version": 3
   },
   "file_extension": ".py",
   "mimetype": "text/x-python",
   "name": "python",
   "nbconvert_exporter": "python",
   "pygments_lexer": "ipython3",
   "version": "3.6.9"
  }
 },
 "nbformat": 4,
 "nbformat_minor": 2
}
