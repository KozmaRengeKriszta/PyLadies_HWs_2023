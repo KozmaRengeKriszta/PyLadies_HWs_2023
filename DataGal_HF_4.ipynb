{
 "cells": [
  {
   "cell_type": "markdown",
   "metadata": {
    "id": "GMhp_dnDLnpo"
   },
   "source": [
    "# Pyladies meetup <img src=\"https://raw.githubusercontent.com/pyladies/pyladies-assets/master/geek/png/pylady_geek_partial.png\" style=\"display:inline\" width=\"150\"  align=\"right\">\n",
    "# 4. házi feladat megoldása"
   ]
  },
  {
   "cell_type": "markdown",
   "metadata": {
    "id": "N32ffGgixP57"
   },
   "source": [
    "Geeky úgy döntött, hogy mielőtt bármi egyébbel tovább haladna először ezeket orvosolja, hogy később már ne okozzanak galibát. Lefuttatta eddig megírt kódjait, hogy minden a memóriában legyen és neki is állt a kódolásnak."
   ]
  },
  {
   "cell_type": "code",
   "execution_count": null,
   "metadata": {
    "id": "8UupIHhKxPQN"
   },
   "outputs": [],
   "source": [
    "import pandas as pd"
   ]
  },
  {
   "cell_type": "code",
   "execution_count": null,
   "metadata": {
    "colab": {
     "base_uri": "https://localhost:8080/",
     "height": 206
    },
    "executionInfo": {
     "elapsed": 19,
     "status": "ok",
     "timestamp": 1690451994588,
     "user": {
      "displayName": "PyLadies Budapest",
      "userId": "10224690347121176727"
     },
     "user_tz": -120
    },
    "id": "p_DX4WyjTEgq",
    "outputId": "35d50669-cdeb-4bbd-8869-d1c97428b7b4"
   },
   "outputs": [],
   "source": [
    "df = pd.read_csv('bergengoc_nepszamlalas.csv', sep = ';')\n",
    "df.head()"
   ]
  },
  {
   "cell_type": "code",
   "execution_count": null,
   "metadata": {
    "colab": {
     "base_uri": "https://localhost:8080/",
     "height": 394
    },
    "executionInfo": {
     "elapsed": 18,
     "status": "ok",
     "timestamp": 1690451994589,
     "user": {
      "displayName": "PyLadies Budapest",
      "userId": "10224690347121176727"
     },
     "user_tz": -120
    },
    "id": "Ml9ETNSSxvlo",
    "outputId": "8f429186-ce29-47fc-ecef-a803c6cd4b80"
   },
   "outputs": [],
   "source": [
    "df.describe(include='all')"
   ]
  },
  {
   "cell_type": "code",
   "execution_count": null,
   "metadata": {
    "colab": {
     "base_uri": "https://localhost:8080/"
    },
    "executionInfo": {
     "elapsed": 17,
     "status": "ok",
     "timestamp": 1690451994589,
     "user": {
      "displayName": "PyLadies Budapest",
      "userId": "10224690347121176727"
     },
     "user_tz": -120
    },
    "id": "2jFvEpkRxzVj",
    "outputId": "e36a0b45-c22d-4cc2-8cfc-c4d6a4fa71fa"
   },
   "outputs": [],
   "source": [
    "df['kor'] = 2023 - df['szuletesi_ev'] # életkor kiszámítása\n",
    "\n",
    "df_110p = df.loc[df['kor']>=110]\n",
    "print(df_110p.shape) # 1177-en töltötték már be a 110-et\n",
    "\n",
    "df_110m = df.loc[df['kor']<110]\n",
    "print(df_110m.shape) # 9349-en még 110 alatt vannak"
   ]
  },
  {
   "cell_type": "code",
   "execution_count": null,
   "metadata": {
    "colab": {
     "base_uri": "https://localhost:8080/",
     "height": 175
    },
    "executionInfo": {
     "elapsed": 13,
     "status": "ok",
     "timestamp": 1690451994589,
     "user": {
      "displayName": "PyLadies Budapest",
      "userId": "10224690347121176727"
     },
     "user_tz": -120
    },
    "id": "KQKFcJwtx3Yi",
    "outputId": "42a0a20b-3f78-4f9b-d31d-8c669e7cf268"
   },
   "outputs": [],
   "source": [
    "# segédtábla létrehozása\n",
    "df_nepcsoportok = pd.DataFrame({'nep_kod': [0,1,2,3],\n",
    "                                'nepcsoport_szoveg': ['ber', 'gen', 'goc', 'bevandorlo']})\n",
    "df_nepcsoportok"
   ]
  },
  {
   "cell_type": "markdown",
   "metadata": {
    "id": "HSDO5wgDyHap"
   },
   "source": [
    "<b>Adathibák javítása:</b>\n",
    "- ID --> Geeky úgy döntött, a legegyszerűbben úgy tud egyedi ID-t adni a soroknak, hogy felhasználja a DataFrame index-ét, előtte azonban megnézi, hogy vannak-e teljesen megegyező sorok (tehát ahol az ID-n kívül minden más oszlop tartalma megegyezik)\n",
    "- BMI --> szövegként van tárolva pedig float típusú, alakítsuk át (kezelni kell, hogy a python tizedespontot használ vessző helyett)\n",
    "- Magasság --> egy list comprihension és if-else (vagy for ciklus + segédlista + if-else) segítségével kijavítja azokat a rekordokat, ahol elcsúszott a helyiérték\n",
    "\n",
    "<b>Hiányzó adatok:</b>\n",
    "  - *keresztnév*: Geeky úgy dönt ezt külön kezeli majd, így ezt oldja meg majd utoljára\n",
    "  - *nem*: leggyakoribb értékkel szeretné behelyettesíteni\n",
    "  - *magasság*: egészre kerekített átlaggal szeretné behelyettesíteni\n",
    "  - *népcsoport*: leggyakoribb értékkel szeretné behelyettesíteni\n",
    "  - *lakhely-megye*: leggyakoribb értékkel szeretné behelyettesíteni\n",
    "\n",
    "\n",
    "  - Geeky úgy dönt, hogy ezek olyan problémák, amik később is előkerülhetnek, így egy függvényt szeretne írni, ami megoldja neki ezeket. A függvény bekéri az adathalmazt, az oszlop nevét, amit kezelni szeretnénk, illetve egy paramétert, ami megadja, hogy kategorikus vagy szám értékű a változó, és ennek megfelelően csinálja meg a hiányzó értékek feltöltését.\n",
    "    - (pluszpontért azt is lehet kezelni a fv-en belül, hogy ha float a számértékű változó akkor float-ot helyettesítsen be, ha pedig int, akkor pedig legyen kerekítve az átlag)"
   ]
  },
  {
   "cell_type": "code",
   "execution_count": null,
   "metadata": {
    "id": "3La9ds0ux6gu"
   },
   "outputs": [],
   "source": [
    "# Megoldás -- ID kijavítása\n",
    "\n",
    "# Megvizsgálom, hogy hány duplikált ID van a df-ben\n",
    "duplikalt_ID = df['ID'].duplicated()\n",
    "print(str(df[duplikalt_ID].ID.count()) + ' db duplikált ID van')\n",
    "\n",
    "print('------------------------------------')\n",
    "\n",
    "# Megvizsgálom, hogy vannak-e teljesen duplikált sorok a df-ben\n",
    "duplikalt_sorok = df.duplicated()  \n",
    "print(str(df[duplikalt_sorok].ID.count()) + ' db duplikált sor van')\n",
    "\n",
    "print('------------------------------------')\n",
    "\n",
    "# Lecserélem az eredeti ID-kat sorindex_ID formátumra\n",
    "df['uj_ID'] = df.index.astype(str) + '_' + df['ID'].astype(str)\n",
    "\n",
    "# Rendezem a df-et (eldobom a régi ID oszlopot és előre hozom a uj_ID oszlopot)\n",
    "df = df.drop('ID', axis=1)\n",
    "df = df.reindex(columns=['uj_ID', 'keresztnev', 'szuletesi_ev', 'nem', 'magassag', 'BMI', 'nepcsoport', 'lakhely_megye', 'kor'])\n",
    "df"
   ]
  },
  {
   "cell_type": "code",
   "execution_count": null,
   "metadata": {
    "id": "1rGPrOvV12mO"
   },
   "outputs": [],
   "source": [
    "# Megoldás -- BMI\n",
    "\n",
    "# Először is lecserélem a vesszőket tizedespontra, majd FLOAT típusú adattá alakítom\n",
    "df['BMI'] = df['BMI'].str.replace(',', '.')\n",
    "df['BMI'] = df['BMI'].astype(float)\n",
    "\n",
    "print('A BMI oszlop adattípusa: ' + str(df['BMI'].dtype))\n",
    "df.head()\n"
   ]
  },
  {
   "cell_type": "code",
   "execution_count": null,
   "metadata": {
    "id": "HdMZMODj2eI3"
   },
   "outputs": [],
   "source": [
    "# Megoldás -- magasság\n",
    "\n",
    "# Egy list comprehension segítségével lecserélem a 220-nál nagyobb magasság értékeket az eredeti érték tizedére\n",
    "df['magassag'] = [magassag/10 if magassag > 220 else magassag for magassag in df['magassag']]\n",
    "\n",
    "# Ellenőrzés céljából meghívok egy describe-ot a 'magassag' oszlopra, hogy lássam, tényleg nincs-e kiugró érték\n",
    "df['magassag'].describe()"
   ]
  },
  {
   "cell_type": "code",
   "execution_count": null,
   "metadata": {},
   "outputs": [],
   "source": [
    "# Megoldás -- hiányzó értékeket kezelő függvény\n",
    "\n",
    "def hianyzo_ertek_kezelo(df, oszlop_nev, adattipus):\n",
    "    \n",
    "    # Ha kategorikus változó, akkor a leggyakoribb érték lesz az új érték\n",
    "    if adattipus == 'categorical':\n",
    "        uj_ertek = df[oszlop_nev].mode().iloc[0]\n",
    "        \n",
    "    # Ha szám típusú változó, akkor az átlag érték lesz az új érték (float esetén float, int esetén a kerekített érték)\n",
    "    elif adattipus == 'numerical':\n",
    "        if df[oszlop_nev].dtype == 'float64':\n",
    "            uj_ertek = df[oszlop_nev].mean()\n",
    "        elif df[oszlop_nev].dtype == 'int64':\n",
    "            uj_ertek = round(df[oszlop_nev].mean())\n",
    "        else:\n",
    "            raise ValueError('A numerikus oszlopnak int vagy float típusúnak kell lennie')\n",
    "        \n",
    "    # Ha esetleg más típusú változó lenne a def-ben, akkor hibaüzenetet kap a felhasználó    \n",
    "    else:\n",
    "        raise ValueError('Az adattípus paraméternek \"categorical\" vagy \"numerical\" értéket kell felvennie')\n",
    "    \n",
    "    # Az adott oszlop NaN értékeinek feltöltése\n",
    "    df[oszlop_nev] = df[oszlop_nev].fillna(uj_ertek)\n",
    "    return df\n"
   ]
  },
  {
   "cell_type": "code",
   "execution_count": null,
   "metadata": {},
   "outputs": [],
   "source": [
    "# Alkalmazom a függvényt a df-re\n",
    "df = hianyzo_ertek_kezelo(df, 'nem', 'categorical')\n",
    "df = hianyzo_ertek_kezelo(df, 'magassag', 'numerical')\n",
    "df = hianyzo_ertek_kezelo(df, 'nepcsoport', 'categorical')\n",
    "df = hianyzo_ertek_kezelo(df, 'lakhely_megye', 'categorical')"
   ]
  },
  {
   "cell_type": "code",
   "execution_count": null,
   "metadata": {},
   "outputs": [],
   "source": [
    "# Megvizsgálom, hogy a 'nem', 'magassag', 'nepcsoport', 'lakhely_megye' oszlopokban maradt-e NaN érték\n",
    "df[['nem', 'magassag', 'nepcsoport', 'lakhely_megye']].describe(include='all')\n",
    "# mostmár 10526 érték van mind a négy oszlopban, így nem maradt egyikben sem NaN érték"
   ]
  },
  {
   "cell_type": "markdown",
   "metadata": {},
   "source": [
    "### Ha utólag kényelmesebbek szeretnénk lenni és egy függvényen belül szeretnék minden oszlop módosítást kezelni, akkor így nézne ki a kód:\n",
    "\n",
    "def hianyzo_ertek_kezelo(df, oszlop_nevek, adattipusok):\n",
    "    \n",
    "    # Ellenőrizzük, hogy az oszlopok és adattípusok listái ugyanolyan hosszúak-e\n",
    "    if len(oszlop_nevek) != len(adattipusok):\n",
    "        raise ValueError('Az oszlopok és adattípusok listáinak ugyanolyan hosszúnak kell lenniük')\n",
    "\n",
    "    # Végigmegyünk az oszlopokon és a hozzájuk tartozó adattípusokon\n",
    "    for oszlop_nev, adattipus in zip(oszlop_nevek, adattipusok):\n",
    "        \n",
    "        # Ha kategorikus változó, akkor a leggyakoribb érték lesz az új érték\n",
    "        if adattipus == 'categorical':\n",
    "            uj_ertek = df[oszlop_nev].mode().iloc[0]\n",
    "            \n",
    "        # Ha szám típusú változó, akkor az egészre kerekített átlag érték lesz az új érték\n",
    "        elif adattipus == 'numerical':\n",
    "            if df[oszlop_nev].dtype == 'float64':\n",
    "                uj_ertek = df[oszlop_nev].mean()\n",
    "            elif df[oszlop_nev].dtype == 'int64':\n",
    "                uj_ertek = round(df[oszlop_nev].mean())\n",
    "            else:\n",
    "                raise ValueError('A numerikus oszlopnak int vagy float típusúnak kell lennie')\n",
    "            \n",
    "        # Ha esetleg más típusú változó lenne a df-ben, akkor hibaüzenetet kap a felhasználó    \n",
    "        else:\n",
    "            raise ValueError('Az adattípus paraméternek \"categorical\" vagy \"numerical\" értéket kell felvennie')\n",
    "        \n",
    "        # Az adott oszlop NaN értékeinek feltöltése\n",
    "        df[oszlop_nev] = df[oszlop_nev].fillna(uj_ertek)\n",
    "    \n",
    "    return df\n",
    "\n",
    "df = hianyzo_ertek_kezelo(df, ['nem', 'magassag', 'nepcsoport', 'lakhely_megye'], ['categorical', 'numerical', 'categorical', 'categorical'])\n"
   ]
  },
  {
   "cell_type": "code",
   "execution_count": null,
   "metadata": {},
   "outputs": [],
   "source": []
  },
  {
   "cell_type": "markdown",
   "metadata": {
    "id": "0bE1kaIq_QpP"
   },
   "source": [
    "A keresztnév hiányzóinak feltöltésénél Geekynek leleményesebbnek kellett lennie, hiszen nem szeretne egy fiúnak lány nevet behelyettesíteni, vagy fordítva. Ezért először minden lehetséges 'nem' értékhez kiszedte, hogy mi az adott csoportba tartozó leggyakoribb név, hogy a feltöltést a megfelelő értékkel oldja meg.\n",
    "\n",
    "Geeky úgy döntött az lesz a legegyszerűbb, ha az eredeti adattáblát 4 külön táblára szedi a 'nem' oszlop négy különböző értéke mentén, mindegyikre megcsinálja a behelyettesítést a táblának megfelelő leggyakoribb névvel, majd pedig újra összefűzi a táblákat, hogy visszakapja az eredetit (immáron a feltöltött keresztnevekkel.)\n",
    "Geeky a sorrendre is ügyel, így a végén az ID mentén be is rendezi a táblát, hogy tényleg az eredeti formát kapja vissza."
   ]
  },
  {
   "cell_type": "code",
   "execution_count": null,
   "metadata": {},
   "outputs": [],
   "source": [
    "# Először is szétválasztom a df-et 4 külön df-re\n",
    "df_nem_0 = df.loc[df['nem'] == 0]\n",
    "df_nem_1 = df.loc[df['nem'] == 1]\n",
    "df_nem_2 = df.loc[df['nem'] == 2]\n",
    "df_nem_3 = df.loc[df['nem'] == 3]"
   ]
  },
  {
   "cell_type": "code",
   "execution_count": null,
   "metadata": {
    "id": "7YB6K4HQTCTT",
    "scrolled": false
   },
   "outputs": [],
   "source": [
    "# Megvizsgálom melyikben mi a leggyakoribb név és az hányszor fordul elő\n",
    "\n",
    "for i in range(4):\n",
    "    df_nem = df.loc[df['nem'] == i].copy()\n",
    "    \n",
    "    leggyakoribb_nev = df_nem['keresztnev'].mode().iloc[0]\n",
    "    elofordulasok = df_nem['keresztnev'].value_counts().iloc[0]\n",
    "    \n",
    "    # Lekérem azt is, melyik df-ben hány NaN érték szerepel a 'keresztnev' oszlopban a későbbi ellenőrzés céljából\n",
    "    nan = df_nem['keresztnev'].isna().sum()\n",
    "\n",
    "    print(f\"Nem: {i}\")\n",
    "    print(f\"Leggyakoribb név: {leggyakoribb_nev} - előfordulások száma: {elofordulasok}\")\n",
    "    print(f\"NaN értékek száma: {nan}\\n\")\n"
   ]
  },
  {
   "cell_type": "code",
   "execution_count": null,
   "metadata": {
    "scrolled": true
   },
   "outputs": [],
   "source": [
    "# Most mindegyik df-re megcsinálom a behelyettesítést is a leggyakoribb névvel\n",
    "\n",
    "dataframes = [df_nem_0, df_nem_1, df_nem_2, df_nem_3]\n",
    "\n",
    "for df_nem in dataframes:\n",
    "    leggyakoribb_nev = df_nem['keresztnev'].mode().iloc[0]\n",
    "    df_nem['keresztnev'].fillna(leggyakoribb_nev, inplace=True)\n"
   ]
  },
  {
   "cell_type": "code",
   "execution_count": null,
   "metadata": {
    "scrolled": false
   },
   "outputs": [],
   "source": [
    "# Ellenőrzés céljából meghívok egy describe() függvényt, hogy lássam hogy alakult a top értékek freq-je\n",
    "print(df_nem_0['keresztnev'].describe())\n",
    "print('----------------------------------')\n",
    "print(df_nem_1['keresztnev'].describe())\n",
    "print('----------------------------------')\n",
    "print(df_nem_2['keresztnev'].describe())\n",
    "print('----------------------------------')\n",
    "print(df_nem_3['keresztnev'].describe())"
   ]
  },
  {
   "cell_type": "code",
   "execution_count": null,
   "metadata": {
    "scrolled": false
   },
   "outputs": [],
   "source": [
    "# Összefűzöm a 4 dataframe-et újra egy nagy df-be és rendezem a sorait a new_ID oszlop szerint\n",
    "\n",
    "df = pd.concat([df_nem_0, df_nem_1, df_nem_2, df_nem_3]).sort_values(by='uj_ID')\n",
    "df\n"
   ]
  },
  {
   "cell_type": "code",
   "execution_count": null,
   "metadata": {},
   "outputs": [],
   "source": [
    "# A sorba rendezéssel probléma van, hiszen az 'uj_ID' oszlop 'object' típusú adatokat tartalmaz,\n",
    "# amiket nem numerikusan rendez sorba a sort_values függvény - most ezt a hibát javítom:\n",
    "\n",
    "# Segédoszlop létrehozása az '_' előtti számok alapján\n",
    "df['temp'] = df['uj_ID'].str.split('_').str[0].astype(int)\n",
    "\n",
    "# Sorok rendezése a segédoszlop alapján\n",
    "df = df.sort_values(by='temp')\n",
    "\n",
    "# Segédoszlop eltávolítása\n",
    "df = df.drop(columns='temp')\n",
    "\n",
    "df"
   ]
  },
  {
   "cell_type": "code",
   "execution_count": null,
   "metadata": {},
   "outputs": [],
   "source": [
    "# És végül a sok manipulálás után egy újabb describe az egész táblázatra, ellenőrzés céljából\n",
    "df.describe(include='all')\n"
   ]
  },
  {
   "cell_type": "markdown",
   "metadata": {
    "id": "rwWQeTqUaZWx"
   },
   "source": [
    "Most, hogy minden adathiba és hiányzó érték a helyére került, jó lenne megfejteni, hogy mit is jelentenek a kódok a nem, illetve népcsoport oszlopoknál. Mivel a népcsoporthoz tartozó mappinget már megkapta, így már csak a 'nem' megfeleltetésekre volt szüksége, így elkérte a hivatalnoktól. Az alábbi információt kapta:\n",
    "  - 0 - nő\n",
    "  - 1 - férfi\n",
    "  - 2 - egyéb\n",
    "  - 3 - nem kíván válaszolni\n",
    "\n",
    "Geeky létrehozta ezt a segédtáblát is, majd pedig két join (merge) művelettel hozzákapcsolta a táblázathoz, hogy egyértelműek legyenek ezek a mezők is. A megfelelő összekapcsolás után a kódokat tartalmazó oszlopokat eldobta."
   ]
  },
  {
   "cell_type": "code",
   "execution_count": null,
   "metadata": {
    "scrolled": true
   },
   "outputs": [],
   "source": [
    "df.head()"
   ]
  },
  {
   "cell_type": "code",
   "execution_count": null,
   "metadata": {
    "id": "jEnPVeZScE6H"
   },
   "outputs": [],
   "source": [
    "# Megoldás - 'nem' segédtábla létrehozása\n",
    "df_nem = pd.DataFrame({'nem_kod': [0,1,2,3],\n",
    "                       'nem_szoveg': ['no', 'ferfi', 'egyeb', 'nincs_valasz']})\n",
    "df_nem"
   ]
  },
  {
   "cell_type": "code",
   "execution_count": null,
   "metadata": {
    "id": "cMvUk-VrcE8e"
   },
   "outputs": [],
   "source": [
    "# Megoldás - 'nem' leképzés csatolása (merge)\n",
    "df = df.merge(df_nem, how = 'left', left_on='nem', right_on='nem_kod')\n",
    "df"
   ]
  },
  {
   "cell_type": "code",
   "execution_count": null,
   "metadata": {
    "id": "lluuNj3lxhua"
   },
   "outputs": [],
   "source": [
    "# Megoldás - népcsoport leképzés csatolása (merge)\n",
    "df = df.merge(df_nepcsoportok, how = 'left', left_on='nepcsoport', right_on='nep_kod')\n",
    "df"
   ]
  },
  {
   "cell_type": "code",
   "execution_count": null,
   "metadata": {
    "id": "MRmPH5y6xjmj",
    "scrolled": false
   },
   "outputs": [],
   "source": [
    "# Megoldás - felesleges oszlopok eldobása, új oszlopok átnevezése és az oszlopok újra rendezése\n",
    "df = df.drop(['nem', 'nepcsoport', 'nem_kod', 'nep_kod'], axis=1)\n",
    "df = df.rename(columns={'nem_szoveg': 'nem', 'nepcsoport_szoveg': 'nepcsoport'})\n",
    "df = df.reindex(columns=['uj_ID', 'keresztnev', 'szuletesi_ev', 'nem', 'magassag', 'BMI', 'nepcsoport', 'lakhely_megye', 'kor'])\n",
    "df"
   ]
  },
  {
   "cell_type": "markdown",
   "metadata": {},
   "source": [
    "#### Értem, hogy a merge() függvény alkalmazását szerettük volna begyakorolni, de magamtól egyébként inkább a replace()-es megoldás jutott volna eszembe:\n",
    "\n",
    "   - df['nepcsoport'] = df['nepcsoport'].replace({0: 'ber', 1: 'gen', 2: 'goc', 3:'bevandorlo'})\n",
    "   - df['nem'] = df['nem'].replace({0: 'no', 1: 'ferfi', 2: 'egyeb', 3:'nincs_valasz'})\n"
   ]
  },
  {
   "cell_type": "code",
   "execution_count": null,
   "metadata": {},
   "outputs": [],
   "source": []
  },
  {
   "cell_type": "markdown",
   "metadata": {
    "id": "i4sTLi9lebTm"
   },
   "source": [
    "Most, hogy végre teljesen elemzésre alkalmas formára hozta Geeky a táblázatot, megnézte, hogy milyen információkra kíváncsi a hivatalnok.\n",
    "\n",
    "- az egyes népcsoportokkal kapcsolatban:\n",
    "  - hány lakos tartozik oda (count)\n",
    "  - min-átlag-max életkor\n",
    "  - átlag-medián magasság és BMI\n",
    "- az egyes megyékkel kapcsolatban:\n",
    "  - hány lakos tartozik oda (count)\n",
    "  - átlag életkor\n",
    "  - medián magasság és BMI\n",
    "  - hány különböző népcsoport él ott (nunique)\n",
    "- ki a legidősebb lakosunk? (és mik az adatai?) (idxmax segíthet, de más megoldás is jó)\n",
    "\n",
    "A hivatalnok látja, hogy Geeky épp a kimutatások részleteit böngészi, így hozzáteszi:\n",
    "- ezek a legsürgetőbb információk amikre szükségünk van, a többivel meg tudjuk várni az elemzőnket. Nagyon könnyű dolga lesz azok után, hogy ilyen szépen előkészítette az adatokat. De ha van kedve, akkor egy jegeskávé kuponért (plusz pontért) cserébe lepjen meg minket, hátha eszébe jut valami olyan nézet, ami nekünk nem, és ezzel feldobhatjuk a minisztériumnak adott jelentésünket.\n",
    "\n",
    "Geeky először exportálta az előkészített adatot egy csv file-ba, hogy meg tudja osztani az előkészített adatokat, majd gyorsan lekódolta a kimutatásokat is.\n"
   ]
  },
  {
   "cell_type": "code",
   "execution_count": null,
   "metadata": {
    "id": "bENz3pQ-nknc"
   },
   "outputs": [],
   "source": [
    "# Megoldás - adatok exportálása\n",
    "df.to_csv('bergengoc_nepszamlalas_tisztitott.csv', index = False)"
   ]
  },
  {
   "cell_type": "markdown",
   "metadata": {},
   "source": [
    "### Dolgozzunk mostantól a tisztított .csv-vel"
   ]
  },
  {
   "cell_type": "code",
   "execution_count": null,
   "metadata": {},
   "outputs": [],
   "source": [
    "df = pd.read_csv('bergengoc_nepszamlalas_tisztitott.csv', sep = ',')\n",
    "df"
   ]
  },
  {
   "cell_type": "code",
   "execution_count": null,
   "metadata": {
    "id": "9fa2iQUccE_G"
   },
   "outputs": [],
   "source": [
    "# Megoldás - népcsoport szerinti kimutatás\n",
    "\n",
    "df_nepcsoport = df.groupby(['nepcsoport'], as_index = False).agg({'uj_ID': ['count'],\n",
    "                                                                  'kor': ['min', 'mean', 'max'],\n",
    "                                                                  'magassag': ['mean', 'median'],\n",
    "                                                                  'BMI': ['mean', 'median']})\n",
    "new_cols = ['nepcsoport'] + [i[0] + '_' + i[1] for i in df_nepcsoport.columns[1:]]\n",
    "df_nepcsoport.columns = new_cols\n",
    "df_nepcsoport\n"
   ]
  },
  {
   "cell_type": "code",
   "execution_count": null,
   "metadata": {
    "id": "CIjVBofpoG82"
   },
   "outputs": [],
   "source": [
    "# Megoldás - lakhely szerinti kimutatás\n",
    "\n",
    "df_megye = df.groupby(['lakhely_megye'], as_index = False).agg({'uj_ID': ['count'],\n",
    "                                                                'kor': ['mean'],\n",
    "                                                                'magassag': ['median'],\n",
    "                                                                'BMI': ['median'],\n",
    "                                                                'nepcsoport': ['nunique']})\n",
    "new_columns = ['lakhely_megye'] + [column[0] + '_' + column[1] for column in df_megye.columns[1:]]\n",
    "df_megye.columns = new_columns\n",
    "df_megye"
   ]
  },
  {
   "cell_type": "code",
   "execution_count": null,
   "metadata": {
    "id": "WVnfqxqKcFCB"
   },
   "outputs": [],
   "source": [
    "# Megoldás - legidősebb bergengóc\n",
    "\n",
    "# Először is megvizsgálom, hogy 1 vagy több \"legidősebb\" korú lakos van-e az adathalmazban\n",
    "\n",
    "max_eletkor = df['kor'].max()\n",
    "max_eletkor_count = df['kor'].value_counts().loc[df['kor'].max()]\n",
    "\n",
    "if max_eletkor_count > 1:\n",
    "    print(f'Van {max_eletkor_count} \"legidősebb\" korú lakos az adathalmazban, akik mind {max_eletkor} évesek.')\n",
    "else:\n",
    "    print(\"Csak egy legidősebb korú lakos van az adathalmazban, aki {max_eletkor} éves.\")\n"
   ]
  },
  {
   "cell_type": "code",
   "execution_count": null,
   "metadata": {},
   "outputs": [],
   "source": [
    "# Leszűröm a df-t a 123 éves lakosokra\n",
    "\n",
    "df_legidosebb_lakosok = df[df.kor == 123]\n",
    "df_legidosebb_lakosok"
   ]
  },
  {
   "cell_type": "markdown",
   "metadata": {
    "id": "VyTtee34qZ5q"
   },
   "source": [
    "Geeky, miután mindent is megcsinált, egyszerűen annyira belejött a kódolásba, hogy úgy döntött még ír 2 függvényt:\n",
    "- az egyik a BMI és a magasság alapján kiszámolja a súlyt (bemeneti érték a magasság (cm) és a BMI)\n",
    "  - súly = BMI * magasság(m)^2\n",
    "- a másikkal pedig könnyen lehetővé teszi, hogy egy adatbázisban szűrni lehessen:\n",
    "  - bemeneti érték a dataframe (adat) és a *kwargs*\n",
    "  - a függvény pedig megnézi, hogy a *kwargs* részben megadott paraméterek közül melyek vannak benne az adatbázis oszlopai között, és annak megfelelően leszűri az adatokat, és visszatér a szűrt adatokkal\n",
    "    - magát az adatszűrést ennek mentén érdemes megírni, ahol az *adat* a függvény bemeneti paramétere, a *lista* és *feltétel* részeket pedig a *kwargs* paraméterek alapján kell megírni\n",
    " ```\n",
    "for i in lista:\n",
    "        adat = adat.loc[feltétel]\n",
    "```\n",
    "    - tehát pl megadjuk hogy magassag = 100, kor = 25, iskolai_vegzettseg = 'altalanos' és a függvény visszatér egy olyan dataframmel, ami szűrve van arra, hogy a magassag=100 és a kor = 25 (és nem akad fenn azon, hogy nincs iskolai végzettség az oszlopok között)\n",
    "\n",
    "\n",
    "\n"
   ]
  },
  {
   "cell_type": "code",
   "execution_count": null,
   "metadata": {},
   "outputs": [],
   "source": [
    "df.describe(include='all')"
   ]
  },
  {
   "cell_type": "code",
   "execution_count": null,
   "metadata": {
    "id": "B3nImAyKyA8u"
   },
   "outputs": [],
   "source": [
    "# Megoldás - súly kiszámító függvény\n",
    "\n",
    "def suly_kalkulator(magassag, BMI):\n",
    "    # Ellenőrzi, hogy a bemeneti értékek számok-e\n",
    "    if ((type(magassag) not in [int, float]) or (type(BMI) not in [int, float])):\n",
    "        raise ValueError(\"A magasság és a BMI értékeknek számoknak kell lenniük!\")\n",
    "\n",
    "    # Ellenőrzi a magasság értékét\n",
    "    if magassag <= 70 or magassag > 250:\n",
    "        raise ValueError(\"A magasság értékének 70 cm és 250 cm között kell lennie!\")\n",
    "\n",
    "    # Ellenőrzi a BMI értékét\n",
    "    if BMI <= 10 or BMI > 50:\n",
    "        raise ValueError(\"A BMI értékének 10 és 50 között kell lennie!\")\n",
    "        \n",
    "    # Ha minden rendben érték rendben van, akkor elvégzi a számítást\n",
    "    suly = BMI * (magassag / 100)**2\n",
    "    suly_kerekitve = round(suly, 2)\n",
    "    \n",
    "    #Végül kiírja az eredményt\n",
    "    print(f\"A megadott adatok alapján a személy súlya {suly_kerekitve} kg\")\n"
   ]
  },
  {
   "cell_type": "code",
   "execution_count": null,
   "metadata": {},
   "outputs": [],
   "source": [
    "# Példa hívás a suly_kalkulatorhoz\n",
    "suly_kalkulator(160, 17.97)\n"
   ]
  },
  {
   "cell_type": "markdown",
   "metadata": {
    "id": "7qIIeU-Epxo9"
   },
   "source": [
    "Adatszűrés"
   ]
  },
  {
   "cell_type": "code",
   "execution_count": null,
   "metadata": {
    "id": "vFCE3fQAsAbu"
   },
   "outputs": [],
   "source": [
    "# Megoldás - adatbázis szűrés számítás\n",
    "\n",
    "def df_szuro(dataframe, **kwargs):\n",
    "    \n",
    "    #Létrehoz egy másolatot az eredeti adatbázisról, hogy az eredeti adatok ne változzanak\n",
    "    szurt_df = df.copy()\n",
    "    \n",
    "    for kulcs, ertek in kwargs.items():\n",
    "        \n",
    "        #Ellenőrzi, hogy az adott kulcsszó megtalálható-e az adatbázis oszlopaiban...\n",
    "        if kulcs in szurt_df.columns:\n",
    "            #...és ha igen, akkor leszűri a df-et az adott {kulcs:érték} pár alapján\n",
    "            szurt_df = szurt_df[szurt_df[kulcs] == ertek]\n",
    "            \n",
    "    return szurt_df\n"
   ]
  },
  {
   "cell_type": "code",
   "execution_count": null,
   "metadata": {},
   "outputs": [],
   "source": [
    "df_szuro(df, szuletesi_ev=2023, nem='no', nepcsoport='ber', szeme_szine='barna')"
   ]
  },
  {
   "cell_type": "markdown",
   "metadata": {
    "id": "8POnh-szwqrP"
   },
   "source": [
    "#### Bár kifejezetten nem kérte a feladat, de azért ebbe a függvénybe is raknék ValueError-okat, ha rajtam múlna\n",
    "\n",
    "    def df_szuro(dataframe, **kwargs):\n",
    "\n",
    "        #Ellenőrizzük, hogy az adat DataFrame-e\n",
    "        if type(df) != pd.DataFrame:\n",
    "        raise ValueError(\"A bemeneti adatnak pandas DataFrame-nek kell lennie!\")\n",
    "\n",
    "        #Létrehoz egy másolatot az eredeti adatbázisról, hogy az eredeti adatok ne változzanak\n",
    "        szurt_df = df.copy()\n",
    "\n",
    "        for kulcs, ertek in kwargs.items():\n",
    "\n",
    "            # Ellenőrizzük, hogy az adott oszlop létezik-e\n",
    "            if kulcs not in szurt_df.columns:\n",
    "                raise ValueError(f\"A(z) '{kulcs}' kulcsszó nem létező oszlopnév!\")\n",
    "\n",
    "            # Ellenőrizzük, hogy az oszlop tartalmazza-e az adott értéket\n",
    "            if ertek not in szurt_df[kulcs].unique():\n",
    "                raise ValueError(f\"A(z) '{kulcs}' oszlopban nincs '{ertek}' érték!\")\n",
    "\n",
    "            #Ellenőrzi, hogy az adott kulcsszó megtalálható-e az adatbázis oszlopaiban...\n",
    "            if kulcs in szurt_df.columns:\n",
    "                #...és ha igen, akkor leszűri a df-et az adott {kulcs:érték} pár alapján\n",
    "                szurt_df = szurt_df[szurt_df[kulcs] == ertek]\n",
    "\n",
    "        return szurt_df\n"
   ]
  },
  {
   "cell_type": "markdown",
   "metadata": {
    "id": "Pn4rX6DXoG7r"
   },
   "source": [
    "Geeky, habár nagyon belejött a kódolásba, hirtelen realizálta, hogy mennyi az idő, így sebtiben elküldte a kódot és az előkészített adatot a hivatalnoknak, majd hátára kapta hátizsákját és elindult Bergenburg meghódítására."
   ]
  }
 ],
 "metadata": {
  "colab": {
   "provenance": [
    {
     "file_id": "1bskEd8kkGv4s5pNsm4_ofUhln8tAlgk-",
     "timestamp": 1690451497760
    }
   ]
  },
  "kernelspec": {
   "display_name": "Python 3 (ipykernel)",
   "language": "python",
   "name": "python3"
  },
  "language_info": {
   "codemirror_mode": {
    "name": "ipython",
    "version": 3
   },
   "file_extension": ".py",
   "mimetype": "text/x-python",
   "name": "python",
   "nbconvert_exporter": "python",
   "pygments_lexer": "ipython3",
   "version": "3.9.16"
  }
 },
 "nbformat": 4,
 "nbformat_minor": 1
}
